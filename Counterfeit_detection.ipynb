{
  "nbformat": 4,
  "nbformat_minor": 0,
  "metadata": {
    "colab": {
      "provenance": [],
      "authorship_tag": "ABX9TyM/A3/lC0cTheDxxRD5bvxf",
      "include_colab_link": true
    },
    "kernelspec": {
      "name": "python3",
      "display_name": "Python 3"
    },
    "language_info": {
      "name": "python"
    }
  },
  "cells": [
    {
      "cell_type": "markdown",
      "metadata": {
        "id": "view-in-github",
        "colab_type": "text"
      },
      "source": [
        "<a href=\"https://colab.research.google.com/github/nitya1206/Counterfeit-Detection/blob/main/Counterfeit_detection.ipynb\" target=\"_parent\"><img src=\"https://colab.research.google.com/assets/colab-badge.svg\" alt=\"Open In Colab\"/></a>"
      ]
    },
    {
      "cell_type": "code",
      "execution_count": null,
      "metadata": {
        "colab": {
          "base_uri": "https://localhost:8080/",
          "height": 1000
        },
        "id": "-Ke770MR5vAN",
        "outputId": "3cefa2d9-9c60-49cd-c7ed-24b9e6008c35"
      },
      "outputs": [
        {
          "output_type": "stream",
          "name": "stdout",
          "text": [
            "    UIDManu   UIDDist              Bookname  \\\n",
            "0  Manu2468  Dist1234          Factfullness   \n",
            "1  Manu4389  Dist5678         LeadingPeople   \n",
            "2  Manu7925  Dist3579    HowtoSleepProperly   \n",
            "3  Manu1357  Dist1278    Diet_A_Boon_or_Sin   \n",
            "4  Manu4389  Dist9034               GREPrep   \n",
            "5  Manu1357  Dist5346        CAT_in_20_days   \n",
            "6  Manu7925  Dist3579           Study_in_US   \n",
            "7  Manu2468  Dist9034  RoadmapToMastersInUK   \n",
            "8  Manu7925  Dist1234    RoboticsForNewbies   \n",
            "9  Manu1357  Dist1278          DronesInArmy   \n",
            "\n",
            "                           Encryp_input  \\\n",
            "0          Manu2468Dist1234Factfullness   \n",
            "1         Manu4389Dist5678LeadingPeople   \n",
            "2    Manu7925Dist3579HowtoSleepProperly   \n",
            "3    Manu1357Dist1278Diet_A_Boon_or_Sin   \n",
            "4               Manu4389Dist9034GREPrep   \n",
            "5        Manu1357Dist5346CAT_in_20_days   \n",
            "6           Manu7925Dist3579Study_in_US   \n",
            "7  Manu2468Dist9034RoadmapToMastersInUK   \n",
            "8    Manu7925Dist1234RoboticsForNewbies   \n",
            "9          Manu1357Dist1278DronesInArmy   \n",
            "\n",
            "                                                Hash  \n",
            "0  f71873f3edee2d3e7d238eb8cbfbe6d3579f7235ae6482...  \n",
            "1  670b936f46fec27dcbe656a8e64c31dc2859a1974397d2...  \n",
            "2  672ad85afc4fc3c8a0a829647cc0c5b3dbba02cad5ff04...  \n",
            "3  7f0fff5efead50db929003efa5e6b66cc2c36dd959488f...  \n",
            "4  87749ebcaa4b760044092de19e077aac24a4199f654482...  \n",
            "5  a05e973cacb4762556bc41575b4429c4780fe12e679220...  \n",
            "6  a0a0a3e1d2736d220d7acdbb8ca95df56bac219cf3d83b...  \n",
            "7  a8bf2affa229e3551310f82def79116539a8d102ffa44e...  \n",
            "8  12136817cc9831f15de6faa92b7dd6b1b29e6ccf001c1d...  \n",
            "9  761e43141fdcdff90e5360bf389d83ca19929b4046c264...  \n",
            "['dcd1484add60b60706e7427ced7ec1cf9823cf2e547227b82f5ab487356b2896', 'd89e26fa26d0dcd9bffd956d4f5d506e2a027c33bcedc2bbae1ef05d9bdf5315', '6cb1c41e205b7af74a63741bceb5d807c594a2fad50aa4d79592209365ac9b65', '0e624784967dda992ae91f8f6c868de2290c7d5d90f0204f7fa9b368261475d3', 'e270c96436d60c5f3724568ad985f8204347bbc0e3d0535cc502a739a5fe2a55']\n",
            "['f71873f3edee2d3e7d238eb8cbfbe6d3579f7235ae6482d8e20693f2558a5eb0', '670b936f46fec27dcbe656a8e64c31dc2859a1974397d2e8032b55d8f774af3e', '672ad85afc4fc3c8a0a829647cc0c5b3dbba02cad5ff04bf264257db2076753b', '7f0fff5efead50db929003efa5e6b66cc2c36dd959488fa1f4c60952f64fe2b3', '87749ebcaa4b760044092de19e077aac24a4199f654482a4cceb3d0f85753498', 'a05e973cacb4762556bc41575b4429c4780fe12e679220c1c36c45cb3349dd85', 'a0a0a3e1d2736d220d7acdbb8ca95df56bac219cf3d83bc48396f1bb9f7f6755', 'a8bf2affa229e3551310f82def79116539a8d102ffa44e201f14e81bd87fd8bf', '12136817cc9831f15de6faa92b7dd6b1b29e6ccf001c1d60273d3fefd03f18b8', '761e43141fdcdff90e5360bf389d83ca19929b4046c264c575be6f20fc8525c1']\n"
          ]
        },
        {
          "output_type": "error",
          "ename": "KeyboardInterrupt",
          "evalue": "ignored",
          "traceback": [
            "\u001b[0;31m---------------------------------------------------------------------------\u001b[0m",
            "\u001b[0;31mKeyboardInterrupt\u001b[0m                         Traceback (most recent call last)",
            "\u001b[0;32m<ipython-input-1-206eeb321417>\u001b[0m in \u001b[0;36m<cell line: 75>\u001b[0;34m()\u001b[0m\n\u001b[1;32m     73\u001b[0m \u001b[0mBlockCreationandMining\u001b[0m\u001b[0;34m(\u001b[0m\u001b[0mdf_transac\u001b[0m\u001b[0;34m)\u001b[0m\u001b[0;34m\u001b[0m\u001b[0;34m\u001b[0m\u001b[0m\n\u001b[1;32m     74\u001b[0m \u001b[0mprint\u001b[0m\u001b[0;34m(\u001b[0m\u001b[0mhash_transac\u001b[0m\u001b[0;34m)\u001b[0m\u001b[0;34m\u001b[0m\u001b[0;34m\u001b[0m\u001b[0m\n\u001b[0;32m---> 75\u001b[0;31m \u001b[0muser_details\u001b[0m \u001b[0;34m=\u001b[0m \u001b[0minput\u001b[0m\u001b[0;34m(\u001b[0m\u001b[0;34m'Enter the UID of the company '\u001b[0m\u001b[0;34m)\u001b[0m\u001b[0;34m\u001b[0m\u001b[0;34m\u001b[0m\u001b[0m\n\u001b[0m\u001b[1;32m     76\u001b[0m \u001b[0;34m\u001b[0m\u001b[0m\n\u001b[1;32m     77\u001b[0m \u001b[0mviewUser\u001b[0m\u001b[0;34m(\u001b[0m\u001b[0muser_details\u001b[0m\u001b[0;34m)\u001b[0m\u001b[0;34m\u001b[0m\u001b[0;34m\u001b[0m\u001b[0m\n",
            "\u001b[0;32m/usr/local/lib/python3.10/dist-packages/ipykernel/kernelbase.py\u001b[0m in \u001b[0;36mraw_input\u001b[0;34m(self, prompt)\u001b[0m\n\u001b[1;32m    849\u001b[0m                 \u001b[0;34m\"raw_input was called, but this frontend does not support input requests.\"\u001b[0m\u001b[0;34m\u001b[0m\u001b[0;34m\u001b[0m\u001b[0m\n\u001b[1;32m    850\u001b[0m             )\n\u001b[0;32m--> 851\u001b[0;31m         return self._input_request(str(prompt),\n\u001b[0m\u001b[1;32m    852\u001b[0m             \u001b[0mself\u001b[0m\u001b[0;34m.\u001b[0m\u001b[0m_parent_ident\u001b[0m\u001b[0;34m,\u001b[0m\u001b[0;34m\u001b[0m\u001b[0;34m\u001b[0m\u001b[0m\n\u001b[1;32m    853\u001b[0m             \u001b[0mself\u001b[0m\u001b[0;34m.\u001b[0m\u001b[0m_parent_header\u001b[0m\u001b[0;34m,\u001b[0m\u001b[0;34m\u001b[0m\u001b[0;34m\u001b[0m\u001b[0m\n",
            "\u001b[0;32m/usr/local/lib/python3.10/dist-packages/ipykernel/kernelbase.py\u001b[0m in \u001b[0;36m_input_request\u001b[0;34m(self, prompt, ident, parent, password)\u001b[0m\n\u001b[1;32m    893\u001b[0m             \u001b[0;32mexcept\u001b[0m \u001b[0mKeyboardInterrupt\u001b[0m\u001b[0;34m:\u001b[0m\u001b[0;34m\u001b[0m\u001b[0;34m\u001b[0m\u001b[0m\n\u001b[1;32m    894\u001b[0m                 \u001b[0;31m# re-raise KeyboardInterrupt, to truncate traceback\u001b[0m\u001b[0;34m\u001b[0m\u001b[0;34m\u001b[0m\u001b[0m\n\u001b[0;32m--> 895\u001b[0;31m                 \u001b[0;32mraise\u001b[0m \u001b[0mKeyboardInterrupt\u001b[0m\u001b[0;34m(\u001b[0m\u001b[0;34m\"Interrupted by user\"\u001b[0m\u001b[0;34m)\u001b[0m \u001b[0;32mfrom\u001b[0m \u001b[0;32mNone\u001b[0m\u001b[0;34m\u001b[0m\u001b[0;34m\u001b[0m\u001b[0m\n\u001b[0m\u001b[1;32m    896\u001b[0m             \u001b[0;32mexcept\u001b[0m \u001b[0mException\u001b[0m \u001b[0;32mas\u001b[0m \u001b[0me\u001b[0m\u001b[0;34m:\u001b[0m\u001b[0;34m\u001b[0m\u001b[0;34m\u001b[0m\u001b[0m\n\u001b[1;32m    897\u001b[0m                 \u001b[0mself\u001b[0m\u001b[0;34m.\u001b[0m\u001b[0mlog\u001b[0m\u001b[0;34m.\u001b[0m\u001b[0mwarning\u001b[0m\u001b[0;34m(\u001b[0m\u001b[0;34m\"Invalid Message:\"\u001b[0m\u001b[0;34m,\u001b[0m \u001b[0mexc_info\u001b[0m\u001b[0;34m=\u001b[0m\u001b[0;32mTrue\u001b[0m\u001b[0;34m)\u001b[0m\u001b[0;34m\u001b[0m\u001b[0;34m\u001b[0m\u001b[0m\n",
            "\u001b[0;31mKeyboardInterrupt\u001b[0m: Interrupted by user"
          ]
        }
      ],
      "source": [
        "import hashlib as hs\n",
        "import pandas as pd\n",
        "\n",
        "# Define the transaction data as a list of lists\n",
        "data = [['Manu2468', 'Dist1234', 'Factfullness', 'Manu2468Dist1234Factfullness'],\n",
        "        ['Manu4389', 'Dist5678', 'LeadingPeople', 'Manu4389Dist5678LeadingPeople'],\n",
        "        ['Manu7925', 'Dist3579', 'HowtoSleepProperly', 'Manu7925Dist3579HowtoSleepProperly'],\n",
        "        ['Manu1357', 'Dist1278', 'Diet_A_Boon_or_Sin', 'Manu1357Dist1278Diet_A_Boon_or_Sin'],\n",
        "        ['Manu4389', 'Dist9034', 'GREPrep', 'Manu4389Dist9034GREPrep'],\n",
        "        ['Manu1357', 'Dist5346', 'CAT_in_20_days', 'Manu1357Dist5346CAT_in_20_days'],\n",
        "        ['Manu7925', 'Dist3579', 'Study_in_US', 'Manu7925Dist3579Study_in_US'],\n",
        "        ['Manu2468', 'Dist9034', 'RoadmapToMastersInUK', 'Manu2468Dist9034RoadmapToMastersInUK'],\n",
        "        ['Manu7925', 'Dist1234', 'RoboticsForNewbies', 'Manu7925Dist1234RoboticsForNewbies'],\n",
        "        ['Manu1357', 'Dist1278', 'DronesInArmy', 'Manu1357Dist1278DronesInArmy']]\n",
        "\n",
        "# Convert the data into a pandas DataFrame\n",
        "df_transac = pd.DataFrame(data, columns=['UIDManu', 'UIDDist', 'Bookname', 'Encryp_input'])\n",
        "\n",
        "# Declare two empty lists\n",
        "hash_transac = []\n",
        "block_hash_list = []\n",
        "\n",
        "def BlockCreationandMining(df_set):\n",
        "  \"\"\"\n",
        "  Creates blocks and mines them using SHA-256 algorithm.\n",
        "\n",
        "  Args:\n",
        "  - df_set (pandas DataFrame): a DataFrame containing transaction data.\n",
        "\n",
        "  Returns:\n",
        "  - None: prints the updated transaction data with hash values and the block hash list.\n",
        "  \"\"\"\n",
        "\n",
        "  # Initialize the previous block hash to 'Initialize'\n",
        "  previous_block_hash = 'Initialize'\n",
        "\n",
        "  # Loop through the DataFrame\n",
        "  for i in range(len(df_set.index)):\n",
        "    str_input = df_set.iat[i, 3] # Get the encrypted input\n",
        "    hash_string = hs.sha256(str_input.encode('utf-8')).hexdigest() # Hash the encrypted input\n",
        "    hash_transac.append(hash_string) # Append the hash value to the list\n",
        "\n",
        "    j = i % 2 # Check if i is even or odd\n",
        "\n",
        "    if j == 1: # If odd, create a block\n",
        "\n",
        "      # Concatenate the previous block hash, the hash of the previous transaction, and the hash of the current transaction\n",
        "      block_str = previous_block_hash + '-' + hash_transac[i-1] + '-' + hash_transac[i]\n",
        "\n",
        "      # Hash the block string and append the hash value to the list\n",
        "      block_hash = hs.sha256(block_str.encode('utf-8')).hexdigest()\n",
        "      block_hash_list.append(block_hash)\n",
        "\n",
        "      # Update the previous block hash with the current block hash\n",
        "      previous_block_hash = block_hash\n",
        "\n",
        "  # Add the hash values as a new column in the DataFrame\n",
        "  df_set['Hash'] = hash_transac\n",
        "\n",
        "  # Print the updated DataFrame and the block hash list\n",
        "  print(df_set)\n",
        "  print(block_hash_list)\n",
        "\n",
        "\n",
        "def viewUser(user_id):\n",
        "\n",
        "  for i in range(10):\n",
        "    if user_id == df_transac.iat[i,0] or user_id == df_transac.iat[i,1]:\n",
        "      output = 'The Manufacturer is : ' + df_transac.iat[i,0]+' and the Distributor is : '+ df_transac.iat[i,1]\n",
        "      print(output)\n",
        "\n",
        "\n",
        "BlockCreationandMining(df_transac)\n",
        "print(hash_transac)\n",
        "user_details = input('Enter the UID of the company ')\n",
        "\n",
        "viewUser(user_details)\n",
        "\n",
        "\n",
        "\n",
        "hash_user = input('Enter the Hash of the product ')\n",
        "if hash_user in hash_transac:\n",
        "  print('True')\n",
        "else:\n",
        "  print('False')"
      ]
    }
  ]
}